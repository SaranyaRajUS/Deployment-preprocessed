{
 "cells": [
  {
   "cell_type": "code",
   "execution_count": 16,
   "id": "67b6de04-1918-43af-8828-1330b92fcb8e",
   "metadata": {},
   "outputs": [],
   "source": [
    "import pandas as pd"
   ]
  },
  {
   "cell_type": "code",
   "execution_count": 17,
   "id": "14a3490d-49b3-42f3-b6f1-b66b285d15e9",
   "metadata": {},
   "outputs": [],
   "source": [
    "dataset=pd.read_csv(\"50_Startups.csv\")"
   ]
  },
  {
   "cell_type": "code",
   "execution_count": 18,
   "id": "a70e4d8f-30fb-4ab6-8a99-47b0c2eb8009",
   "metadata": {},
   "outputs": [],
   "source": [
    "dataset=pd.get_dummies(dataset,drop_first=True)"
   ]
  },
  {
   "cell_type": "code",
   "execution_count": 19,
   "id": "fef5c593-19e3-4f70-bb49-d181a6eecbf9",
   "metadata": {},
   "outputs": [
    {
     "data": {
      "text/plain": [
       "Index(['R&D Spend', 'Administration', 'Marketing Spend', 'Profit',\n",
       "       'State_Florida', 'State_New York'],\n",
       "      dtype='object')"
      ]
     },
     "execution_count": 19,
     "metadata": {},
     "output_type": "execute_result"
    }
   ],
   "source": [
    "dataset.columns"
   ]
  },
  {
   "cell_type": "code",
   "execution_count": 20,
   "id": "b5d1f90e-e852-4504-8192-ef9ff48e0c8c",
   "metadata": {},
   "outputs": [],
   "source": [
    "independent=dataset[['R&D Spend', 'Administration', 'Marketing Spend',\n",
    "       'State_Florida', 'State_New York']]\n",
    "dependent=dataset[[\"Profit\"]]"
   ]
  },
  {
   "cell_type": "code",
   "execution_count": 21,
   "id": "a5a024bd-5d89-42dd-86a3-554f5f0e6e24",
   "metadata": {},
   "outputs": [],
   "source": [
    "from sklearn.model_selection import train_test_split\n",
    "X_train,X_test,y_train,y_test=train_test_split(independent,dependent,test_size=0.30,random_state=0)"
   ]
  },
  {
   "cell_type": "code",
   "execution_count": 22,
   "id": "828b93ea-cc58-4a07-a83d-d2a0b5d27bf4",
   "metadata": {},
   "outputs": [],
   "source": [
    "from sklearn.preprocessing import StandardScaler\n",
    "sc=StandardScaler()\n",
    "X_train=sc.fit_transform(X_train)\n",
    "X_test=sc.transform(X_test)"
   ]
  },
  {
   "cell_type": "code",
   "execution_count": 23,
   "id": "6475c490-c4c5-40f7-ab8d-5b8dd5c63464",
   "metadata": {},
   "outputs": [
    {
     "name": "stderr",
     "output_type": "stream",
     "text": [
      "C:\\Anaconda3\\Lib\\site-packages\\sklearn\\base.py:493: UserWarning: X does not have valid feature names, but StandardScaler was fitted with feature names\n",
      "  warnings.warn(\n"
     ]
    },
    {
     "data": {
      "text/plain": [
       "array([[-1.46755405, -4.33835385, -1.50744257, -0.5       ,  1.30088727]])"
      ]
     },
     "execution_count": 23,
     "metadata": {},
     "output_type": "execute_result"
    }
   ],
   "source": [
    "preinput=sc.transform([[1300,12000,4000,0,1]])\n",
    "preinput"
   ]
  },
  {
   "cell_type": "code",
   "execution_count": 24,
   "id": "e106e8ce-de61-4d65-af42-d4b391ac6a7f",
   "metadata": {},
   "outputs": [],
   "source": [
    "import pickle\n",
    "filename=\"finalized_model_svr.sav\""
   ]
  },
  {
   "cell_type": "code",
   "execution_count": 25,
   "id": "a2044c36-3a3e-4df5-a5a4-d3f97a4e7de1",
   "metadata": {},
   "outputs": [],
   "source": [
    "loaded_model = pickle.load(open(\"finalized_model_svr.sav\", 'rb'))\n",
    "result=loaded_model.predict(preinput)"
   ]
  },
  {
   "cell_type": "code",
   "execution_count": 26,
   "id": "f8ed75bc-a595-4de5-b5bc-ac371778485c",
   "metadata": {},
   "outputs": [
    {
     "data": {
      "text/plain": [
       "array([-1.03109284])"
      ]
     },
     "execution_count": 26,
     "metadata": {},
     "output_type": "execute_result"
    }
   ],
   "source": [
    "result"
   ]
  },
  {
   "cell_type": "code",
   "execution_count": null,
   "id": "9671c3f5-8889-47aa-b242-ff6a3ab3c748",
   "metadata": {},
   "outputs": [],
   "source": []
  }
 ],
 "metadata": {
  "kernelspec": {
   "display_name": "Python 3 (ipykernel)",
   "language": "python",
   "name": "python3"
  },
  "language_info": {
   "codemirror_mode": {
    "name": "ipython",
    "version": 3
   },
   "file_extension": ".py",
   "mimetype": "text/x-python",
   "name": "python",
   "nbconvert_exporter": "python",
   "pygments_lexer": "ipython3",
   "version": "3.12.4"
  }
 },
 "nbformat": 4,
 "nbformat_minor": 5
}
